{
 "cells": [
  {
   "cell_type": "code",
   "execution_count": 2,
   "id": "bb715e6b",
   "metadata": {},
   "outputs": [],
   "source": [
    "import pandas as pd \n",
    "\n",
    "ratings = pd.read_csv(\"../data/ratings.csv\")   \n",
    "movies  = pd.read_csv(\"../data/movies.csv\")"
   ]
  },
  {
   "cell_type": "code",
   "execution_count": 6,
   "id": "5857b8e5",
   "metadata": {},
   "outputs": [
    {
     "name": "stdout",
     "output_type": "stream",
     "text": [
      "Example user history: [1, 3, 6, 47, 50, 70, 101, 110, 151, 157, 163, 216, 223, 231, 235, 260, 296, 316, 333, 349, 356, 362, 367, 423, 441, 457, 480, 500, 527, 543, 552, 553, 590, 592, 593, 596, 608, 648, 661, 673, 733, 736, 780, 804, 919, 923, 940, 943, 954, 1009, 1023, 1024, 1025, 1029, 1030, 1031, 1032, 1042, 1049, 1060, 1073, 1080, 1089, 1090, 1092, 1097, 1127, 1136, 1196, 1197, 1198, 1206, 1208, 1210, 1213, 1214, 1219, 1220, 1222, 1224, 1226, 1240, 1256, 1258, 1265, 1270, 1275, 1278, 1282, 1291, 1298, 1348, 1377, 1396, 1408, 1445, 1473, 1500, 1517, 1552, 1573, 1580, 1587, 1617, 1620, 1625, 1644, 1676, 1732, 1777, 1793, 1804, 1805, 1920, 1927, 1954, 1967, 2000, 2005, 2012, 2018, 2028, 2033, 2046, 2048, 2054, 2058, 2078, 2090, 2093, 2094, 2096, 2099, 2105, 2115, 2116, 2137, 2139, 2141, 2143, 2161, 2174, 2193, 2253, 2268, 2273, 2291, 2329, 2338, 2353, 2366, 2387, 2389, 2395, 2406, 2414, 2427, 2450, 2459, 2470, 2478, 2492, 2502, 2528, 2529, 2542, 2571, 2580, 2596, 2616, 2617, 2628, 2640, 2641, 2644, 2648, 2654, 2657, 2692, 2700, 2716, 2761, 2797, 2826, 2858, 2872, 2899, 2916, 2944, 2947, 2948, 2949, 2959, 2985, 2987, 2991, 2993, 2997, 3033, 3034, 3052, 3053, 3062, 3147, 3168, 3176, 3243, 3247, 3253, 3273, 3386, 3439, 3440, 3441, 3448, 3450, 3479, 3489, 3527, 3578, 3617, 3639, 3671, 3702, 3703, 3729, 3740, 3744, 3793, 3809, 4006, 5060]\n"
     ]
    }
   ],
   "source": [
    "user_movies = ratings.groupby(\"userId\")[\"movieId\"].apply(list).tolist()\n",
    "\n",
    "print(\"Example user history:\", user_movies[0])"
   ]
  },
  {
   "cell_type": "code",
   "execution_count": 7,
   "id": "f791395b",
   "metadata": {},
   "outputs": [],
   "source": [
    "from gensim.models import Word2Vec\n",
    "\n",
    "model = Word2Vec(\n",
    "    sentences=[[str(m) for m in movies_watched] for movies_watched in user_movies],\n",
    "    vector_size=64,   \n",
    "    window=10,        \n",
    "    min_count=1,      \n",
    "    workers=4,\n",
    "    sg=1             \n",
    ")"
   ]
  },
  {
   "cell_type": "code",
   "execution_count": 8,
   "id": "618715a2",
   "metadata": {},
   "outputs": [
    {
     "data": {
      "text/plain": [
       "[('47', 0.9938066601753235),\n",
       " ('110', 0.9777838587760925),\n",
       " ('70', 0.9773520827293396),\n",
       " ('41', 0.9768465757369995),\n",
       " ('58', 0.9762870073318481)]"
      ]
     },
     "execution_count": 8,
     "metadata": {},
     "output_type": "execute_result"
    }
   ],
   "source": [
    "movie_id = \"50\"\n",
    "similar = model.wv.most_similar(movie_id, topn=5)\n",
    "\n",
    "similar"
   ]
  },
  {
   "cell_type": "code",
   "execution_count": 10,
   "id": "8a38f44e",
   "metadata": {},
   "outputs": [
    {
     "data": {
      "text/plain": [
       "[('Seven (a.k.a. Se7en) (1995)', 0.9938066601753235),\n",
       " ('Braveheart (1995)', 0.9777838587760925),\n",
       " ('From Dusk Till Dawn (1996)', 0.9773520827293396),\n",
       " ('Richard III (1995)', 0.9768465757369995),\n",
       " ('Postman, The (Postino, Il) (1994)', 0.9762870073318481)]"
      ]
     },
     "execution_count": 10,
     "metadata": {},
     "output_type": "execute_result"
    }
   ],
   "source": [
    "def print_recommendations(movieId):\n",
    "    sims = model.wv.most_similar(str(movieId), topn=5)\n",
    "    recs = [(movies[movies.movieId == int(mid)][\"title\"].values[0], score) \n",
    "            for mid, score in sims]\n",
    "    return recs\n",
    "\n",
    "print_recommendations(50)"
   ]
  }
 ],
 "metadata": {
  "kernelspec": {
   "display_name": ".venv (3.10.11)",
   "language": "python",
   "name": "python3"
  },
  "language_info": {
   "codemirror_mode": {
    "name": "ipython",
    "version": 3
   },
   "file_extension": ".py",
   "mimetype": "text/x-python",
   "name": "python",
   "nbconvert_exporter": "python",
   "pygments_lexer": "ipython3",
   "version": "3.10.11"
  }
 },
 "nbformat": 4,
 "nbformat_minor": 5
}
